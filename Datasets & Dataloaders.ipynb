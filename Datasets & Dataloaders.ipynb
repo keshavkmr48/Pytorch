{
 "cells": [
  {
   "cell_type": "markdown",
   "metadata": {},
   "source": [
    "# Datasets & DataLoaders"
   ]
  },
  {
   "cell_type": "markdown",
   "metadata": {},
   "source": [
    "We want our dataset code to be separate from our model training code such that modularity and readability of the code enchances. PyTorch provides two data primitives: \n",
    "-   torch.utils.data.DataLoader\n",
    "-   torch.utils.data.Dataset \n",
    "\n",
    "that allows us to use pre-loaded datasets as well as your own data. \n",
    "\n",
    "    Dataset stores the samples and their corresponding labels\n",
    "    DataLoader wraps an iterable around the Dataset to enable easy access to the samples."
   ]
  },
  {
   "cell_type": "markdown",
   "metadata": {},
   "source": [
    "PyTorch library provide a number of pre-loaded datasets (such as FashionMNIST) that are subcalss of torch.utils.data.Dataset and implement functions specific to the particular data. \n",
    "\n",
    "They can be used to prototype and benchmark models. It can be found here: \n",
    "*   [Image Datasets](https://pytorch.org/vision/stable/datasets.html)\n",
    "*   [Text Datasets](https://pytorch.org/text/stable/datasets.html)\n",
    "*   [Audio Datasets](https://pytorch.org/audio/stable/datasets.html)"
   ]
  },
  {
   "cell_type": "markdown",
   "metadata": {},
   "source": [
    "## Loading a dataset"
   ]
  },
  {
   "cell_type": "markdown",
   "metadata": {},
   "source": [
    "We will be using Fashion-MNIST dataset for demonstrating how to load the data from TorchVision. \n",
    "\n",
    "Fashion-MNIST is a dataset of Zalando’s article images consisting of 60,000 training examples and 10,000 test examples. Each example comprises a 28×28 grayscale image and an associated label from one of 10 classes."
   ]
  },
  {
   "cell_type": "markdown",
   "metadata": {},
   "source": [
    "We load the FashionMNIST Dataset with the following parameters:\n",
    "\n",
    "*   <b>root</b> is the path where the train/test data is stored,\n",
    "*   <b>train</b> specifies training or test dataset,\n",
    "*   <b>download=True</b> downloads the data from the internet if it’s not available at root.\n",
    "*   <b>transform and target_transform</b> specify the feature and label transformations"
   ]
  },
  {
   "cell_type": "code",
   "execution_count": 2,
   "metadata": {},
   "outputs": [],
   "source": [
    "import torch\n",
    "from torch.utils.data import Dataset\n",
    "from torchvision import datasets\n",
    "from torchvision.transforms import ToTensor\n",
    "import matplotlib.pyplot as plt\n",
    "%matplotlib inline\n",
    "\n",
    "# train=true\n",
    "training_data = datasets.FashionMNIST(\n",
    "    root=\"data\",\n",
    "    train=True,\n",
    "    download=True,\n",
    "    transform=ToTensor()\n",
    ")\n",
    "\n",
    "# test=true\n",
    "test_data = datasets.FashionMNIST(\n",
    "    root=\"data\",\n",
    "    train=False,\n",
    "    download=True,\n",
    "    transform=ToTensor()\n",
    ")"
   ]
  },
  {
   "cell_type": "markdown",
   "metadata": {},
   "source": [
    "## Iterating and Visualizing the Dataset"
   ]
  },
  {
   "cell_type": "markdown",
   "metadata": {},
   "source": [
    "We can index Datasets manually like a list: <b>training_data[index]</b>. \n",
    "\n",
    "We use matplotlib to visualize some samples in our training data."
   ]
  },
  {
   "cell_type": "code",
   "execution_count": 3,
   "metadata": {},
   "outputs": [
    {
     "data": {
      "text/plain": [
       "<Figure size 576x576 with 0 Axes>"
      ]
     },
     "metadata": {},
     "output_type": "display_data"
    }
   ],
   "source": [
    "labels_map = {\n",
    "    0: \"T-Shirt\",\n",
    "    1: \"Trouser\",\n",
    "    2: \"Pullover\",\n",
    "    3: \"Dress\",\n",
    "    4: \"Coat\",\n",
    "    5: \"Sandal\",\n",
    "    6: \"Shirt\",\n",
    "    7: \"Sneaker\",\n",
    "    8: \"Bag\",\n",
    "    9: \"Ankle Boot\",\n",
    "}\n",
    "\n",
    "# sets the size of the figure\n",
    "figure = plt.figure(figsize=(8, 8))\n",
    "\n",
    "# sets the number of rows and columns for sub plots of the figure\n",
    "cols, rows = 3, 3\n",
    "\n",
    "# iterate over to all sub plots to plot the fugure.\n",
    "# for i in range(1, cols * rows + 1):\n",
    "#     sample_idx = torch.randint(len(training_data), size=(1,)).item() # randonly pick an integer from the length of the training data and use it as index.\n",
    "#     img, label = training_data[sample_idx] # index the training sample based on choosen index.\n",
    "#     figure.add_subplot(rows, cols, i) # set the plotting index in subplots matrix in the figure.\n",
    "#     plt.title(labels_map[label]) # set the title of the plot\n",
    "#     plt.axis(\"off\") \n",
    "#     plt.imshow(img.squeeze(), cmap=\"gray\") \n",
    "# plt.show()"
   ]
  },
  {
   "cell_type": "markdown",
   "metadata": {},
   "source": [
    "## Creating a Custom Dataset for your files"
   ]
  },
  {
   "cell_type": "markdown",
   "metadata": {},
   "source": [
    "A custom Dataset class must implement three functions: __init__, __len__, and __getitem__.\n"
   ]
  },
  {
   "cell_type": "code",
   "execution_count": 4,
   "metadata": {},
   "outputs": [],
   "source": [
    "import pandas as pd\n",
    "import os \n",
    "from torchvision.io import read_image"
   ]
  },
  {
   "cell_type": "code",
   "execution_count": 5,
   "metadata": {},
   "outputs": [],
   "source": [
    "class CustomImageDatset(Dataset):\n",
    "    \n",
    "    def __init__(self, annotation_file, image_dir, transform=None, target_transform=None):\n",
    "        \"\"\"\n",
    "        The __init__ function is run once when instantiating the Dataset object. \n",
    "        We initialize the directory containing the images, the annotations file, and both transforms.\n",
    "        \"\"\"\n",
    "        self.image_labels=pd.read_csv(annotation_file)\n",
    "        self.img_dir=image_dir\n",
    "        self.transform=transform\n",
    "        self.target_transform=target_transform\n",
    "\n",
    "    def __len__(self):\\\n",
    "    \n",
    "        \"\"\"\n",
    "        The __len__ function returns the number of samples in our dataset.\n",
    "        \"\"\"\n",
    "        return len(self.image_labels)\n",
    "    \n",
    "    def __getitem__(self,idx):\n",
    "        \"\"\"\n",
    "        The __getitem__ function loads and returns a sample from the dataset at the given index idx. \n",
    "        Based on the index, it identifies the image’s location on disk, converts that to a tensor using read_image.\n",
    "        Retrieves the corresponding label from the csv data in self.img_labels, calls the transform functions on them (if applicable), \n",
    "        and returns the tensor image and corresponding label in a tuple.\n",
    "        \"\"\"\n",
    "        img_path=os.path.join(self.img_dir,self.image_labels.iloc[idx,0])\n",
    "        image=read_image(img_path)\n",
    "        label=self.image_labels.iloc[idx,1]\n",
    "        if self.transform:\n",
    "            image=self.transform(image)\n",
    "        if self.target_transform:\n",
    "            label=self.target_transform(label)\n",
    "        return image, label\n",
    "\n",
    "\n",
    "\n",
    "\n"
   ]
  },
  {
   "cell_type": "markdown",
   "metadata": {},
   "source": [
    "## Preparing your data for training with DataLoaders"
   ]
  },
  {
   "cell_type": "markdown",
   "metadata": {},
   "source": [
    "The Dataset retrieves our dataset’s features and labels one sample at a time. \n",
    "\n",
    "While training a model, we typically want-\n",
    "*   to pass samples in “minibatches”, \n",
    "*   reshuffle the data at every epoch to reduce model overfitting and \n",
    "* use Python’s multiprocessing to speed up data retrieval.\n",
    "\n",
    "<b>DataLoader</b> is an iterable that abstracts this complexity for us in an easy API."
   ]
  },
  {
   "cell_type": "code",
   "execution_count": 6,
   "metadata": {},
   "outputs": [],
   "source": [
    "from torch.utils.data import DataLoader\n",
    "\n",
    "train_dataloader = DataLoader(training_data, batch_size=64, shuffle=True)\n",
    "test_dataloader = DataLoader(test_data, batch_size=64, shuffle=True)"
   ]
  },
  {
   "cell_type": "markdown",
   "metadata": {},
   "source": [
    "We have loaded that dataset into the DataLoader and can iterate through the dataset as needed. \n",
    "\n",
    "Each iteration below returns a batch of train_features and train_labels (containing batch_size=64 features and labels respectively).\n",
    "\n",
    "Because we specified shuffle=True, after we iterate over all batches the data is shuffled."
   ]
  },
  {
   "cell_type": "code",
   "execution_count": 7,
   "metadata": {},
   "outputs": [
    {
     "name": "stdout",
     "output_type": "stream",
     "text": [
      "Feature batch shape: torch.Size([64, 1, 28, 28])\n",
      "Labels batch shape: torch.Size([64])\n",
      "Label: 6\n"
     ]
    }
   ],
   "source": [
    "# Display image and label.\n",
    "train_features, train_labels = next(iter(train_dataloader))\n",
    "print(f\"Feature batch shape: {train_features.size()}\")\n",
    "print(f\"Labels batch shape: {train_labels.size()}\")\n",
    "img = train_features[0].squeeze()\n",
    "label = train_labels[0]\n",
    "# plt.imshow(img, cmap=\"gray\")\n",
    "# plt.show()\n",
    "print(f\"Label: {label}\")"
   ]
  },
  {
   "cell_type": "markdown",
   "metadata": {},
   "source": [
    "Further reading : https://pytorch.org/docs/stable/data.html"
   ]
  },
  {
   "cell_type": "markdown",
   "metadata": {},
   "source": []
  }
 ],
 "metadata": {
  "kernelspec": {
   "display_name": "Python 3",
   "language": "python",
   "name": "python3"
  },
  "language_info": {
   "codemirror_mode": {
    "name": "ipython",
    "version": 3
   },
   "file_extension": ".py",
   "mimetype": "text/x-python",
   "name": "python",
   "nbconvert_exporter": "python",
   "pygments_lexer": "ipython3",
   "version": "3.9.7"
  }
 },
 "nbformat": 4,
 "nbformat_minor": 2
}
